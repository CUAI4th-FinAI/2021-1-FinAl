{
  "nbformat": 4,
  "nbformat_minor": 0,
  "metadata": {
    "colab": {
      "name": "Untitled1.ipynb",
      "provenance": []
    },
    "kernelspec": {
      "name": "python3",
      "display_name": "Python 3"
    },
    "language_info": {
      "name": "python"
    }
  },
  "cells": [
    {
      "cell_type": "code",
      "metadata": {
        "colab": {
          "base_uri": "https://localhost:8080/"
        },
        "id": "PCBRRNZba6qx",
        "outputId": "39d9e96c-3132-42cc-a3ee-57aee495db99"
      },
      "source": [
        "from google.colab import drive\n",
        "drive.mount('/content/drive')"
      ],
      "execution_count": 1,
      "outputs": [
        {
          "output_type": "stream",
          "text": [
            "Mounted at /content/drive\n"
          ],
          "name": "stdout"
        }
      ]
    },
    {
      "cell_type": "code",
      "metadata": {
        "colab": {
          "base_uri": "https://localhost:8080/"
        },
        "id": "EqdhORcs9pVd",
        "outputId": "46cf4669-b1a2-4215-eba5-d15fe2d6d5af"
      },
      "source": [
        "!pip install catboost"
      ],
      "execution_count": 4,
      "outputs": [
        {
          "output_type": "stream",
          "text": [
            "Collecting catboost\n",
            "\u001b[?25l  Downloading https://files.pythonhosted.org/packages/47/80/8e9c57ec32dfed6ba2922bc5c96462cbf8596ce1a6f5de532ad1e43e53fe/catboost-0.25.1-cp37-none-manylinux1_x86_64.whl (67.3MB)\n",
            "\u001b[K     |████████████████████████████████| 67.3MB 57kB/s \n",
            "\u001b[?25hRequirement already satisfied: graphviz in /usr/local/lib/python3.7/dist-packages (from catboost) (0.10.1)\n",
            "Requirement already satisfied: numpy>=1.16.0 in /usr/local/lib/python3.7/dist-packages (from catboost) (1.19.5)\n",
            "Requirement already satisfied: pandas>=0.24.0 in /usr/local/lib/python3.7/dist-packages (from catboost) (1.1.5)\n",
            "Requirement already satisfied: matplotlib in /usr/local/lib/python3.7/dist-packages (from catboost) (3.2.2)\n",
            "Requirement already satisfied: scipy in /usr/local/lib/python3.7/dist-packages (from catboost) (1.4.1)\n",
            "Requirement already satisfied: plotly in /usr/local/lib/python3.7/dist-packages (from catboost) (4.4.1)\n",
            "Requirement already satisfied: six in /usr/local/lib/python3.7/dist-packages (from catboost) (1.15.0)\n",
            "Requirement already satisfied: python-dateutil>=2.7.3 in /usr/local/lib/python3.7/dist-packages (from pandas>=0.24.0->catboost) (2.8.1)\n",
            "Requirement already satisfied: pytz>=2017.2 in /usr/local/lib/python3.7/dist-packages (from pandas>=0.24.0->catboost) (2018.9)\n",
            "Requirement already satisfied: pyparsing!=2.0.4,!=2.1.2,!=2.1.6,>=2.0.1 in /usr/local/lib/python3.7/dist-packages (from matplotlib->catboost) (2.4.7)\n",
            "Requirement already satisfied: kiwisolver>=1.0.1 in /usr/local/lib/python3.7/dist-packages (from matplotlib->catboost) (1.3.1)\n",
            "Requirement already satisfied: cycler>=0.10 in /usr/local/lib/python3.7/dist-packages (from matplotlib->catboost) (0.10.0)\n",
            "Requirement already satisfied: retrying>=1.3.3 in /usr/local/lib/python3.7/dist-packages (from plotly->catboost) (1.3.3)\n",
            "Installing collected packages: catboost\n",
            "Successfully installed catboost-0.25.1\n"
          ],
          "name": "stdout"
        }
      ]
    },
    {
      "cell_type": "code",
      "metadata": {
        "id": "-TR_4-Yxa0XZ"
      },
      "source": [
        "import warnings\n",
        "warnings.filterwarnings('ignore')\n",
        "import numpy as np\n",
        "import pandas as pd   \n",
        "import matplotlib.pyplot as plt\n",
        "import seaborn as sns\n",
        "import itertools\n",
        "from sklearn.model_selection import train_test_split\n",
        "from sklearn.metrics import accuracy_score, confusion_matrix, log_loss\n",
        "\n",
        "from sklearn.linear_model import LogisticRegression\n",
        "from sklearn.tree import DecisionTreeClassifier\n",
        "\n",
        "from xgboost import XGBClassifier\n",
        "from lightgbm import LGBMClassifier\n",
        "from catboost import CatBoostClassifier\n",
        "from sklearn import svm\n",
        "from sklearn.ensemble import RandomForestClassifier"
      ],
      "execution_count": 5,
      "outputs": []
    },
    {
      "cell_type": "code",
      "metadata": {
        "id": "JfPbEgKv9tq1"
      },
      "source": [
        "data_path='/content/drive/MyDrive/Cola/open/'\n",
        "train=pd.read_csv(data_path+'train.csv')\n",
        "test=pd.read_csv(data_path+'test.csv')\n",
        "submission=pd.read_csv(data_path+'sample_submission.csv')"
      ],
      "execution_count": 33,
      "outputs": []
    },
    {
      "cell_type": "code",
      "metadata": {
        "colab": {
          "base_uri": "https://localhost:8080/",
          "height": 377
        },
        "id": "Nny1kmFrZd1a",
        "outputId": "3aff5535-e907-49d0-e2e4-d5917138c2c9"
      },
      "source": [
        "train.head()"
      ],
      "execution_count": 34,
      "outputs": [
        {
          "output_type": "execute_result",
          "data": {
            "text/html": [
              "<div>\n",
              "<style scoped>\n",
              "    .dataframe tbody tr th:only-of-type {\n",
              "        vertical-align: middle;\n",
              "    }\n",
              "\n",
              "    .dataframe tbody tr th {\n",
              "        vertical-align: top;\n",
              "    }\n",
              "\n",
              "    .dataframe thead th {\n",
              "        text-align: right;\n",
              "    }\n",
              "</style>\n",
              "<table border=\"1\" class=\"dataframe\">\n",
              "  <thead>\n",
              "    <tr style=\"text-align: right;\">\n",
              "      <th></th>\n",
              "      <th>index</th>\n",
              "      <th>gender</th>\n",
              "      <th>car</th>\n",
              "      <th>reality</th>\n",
              "      <th>child_num</th>\n",
              "      <th>income_total</th>\n",
              "      <th>income_type</th>\n",
              "      <th>edu_type</th>\n",
              "      <th>family_type</th>\n",
              "      <th>house_type</th>\n",
              "      <th>DAYS_BIRTH</th>\n",
              "      <th>DAYS_EMPLOYED</th>\n",
              "      <th>FLAG_MOBIL</th>\n",
              "      <th>work_phone</th>\n",
              "      <th>phone</th>\n",
              "      <th>email</th>\n",
              "      <th>occyp_type</th>\n",
              "      <th>family_size</th>\n",
              "      <th>begin_month</th>\n",
              "      <th>credit</th>\n",
              "    </tr>\n",
              "  </thead>\n",
              "  <tbody>\n",
              "    <tr>\n",
              "      <th>0</th>\n",
              "      <td>0</td>\n",
              "      <td>F</td>\n",
              "      <td>N</td>\n",
              "      <td>N</td>\n",
              "      <td>0</td>\n",
              "      <td>202500.0</td>\n",
              "      <td>Commercial associate</td>\n",
              "      <td>Higher education</td>\n",
              "      <td>Married</td>\n",
              "      <td>Municipal apartment</td>\n",
              "      <td>-13899</td>\n",
              "      <td>-4709</td>\n",
              "      <td>1</td>\n",
              "      <td>0</td>\n",
              "      <td>0</td>\n",
              "      <td>0</td>\n",
              "      <td>NaN</td>\n",
              "      <td>2.0</td>\n",
              "      <td>-6.0</td>\n",
              "      <td>1.0</td>\n",
              "    </tr>\n",
              "    <tr>\n",
              "      <th>1</th>\n",
              "      <td>1</td>\n",
              "      <td>F</td>\n",
              "      <td>N</td>\n",
              "      <td>Y</td>\n",
              "      <td>1</td>\n",
              "      <td>247500.0</td>\n",
              "      <td>Commercial associate</td>\n",
              "      <td>Secondary / secondary special</td>\n",
              "      <td>Civil marriage</td>\n",
              "      <td>House / apartment</td>\n",
              "      <td>-11380</td>\n",
              "      <td>-1540</td>\n",
              "      <td>1</td>\n",
              "      <td>0</td>\n",
              "      <td>0</td>\n",
              "      <td>1</td>\n",
              "      <td>Laborers</td>\n",
              "      <td>3.0</td>\n",
              "      <td>-5.0</td>\n",
              "      <td>1.0</td>\n",
              "    </tr>\n",
              "    <tr>\n",
              "      <th>2</th>\n",
              "      <td>2</td>\n",
              "      <td>M</td>\n",
              "      <td>Y</td>\n",
              "      <td>Y</td>\n",
              "      <td>0</td>\n",
              "      <td>450000.0</td>\n",
              "      <td>Working</td>\n",
              "      <td>Higher education</td>\n",
              "      <td>Married</td>\n",
              "      <td>House / apartment</td>\n",
              "      <td>-19087</td>\n",
              "      <td>-4434</td>\n",
              "      <td>1</td>\n",
              "      <td>0</td>\n",
              "      <td>1</td>\n",
              "      <td>0</td>\n",
              "      <td>Managers</td>\n",
              "      <td>2.0</td>\n",
              "      <td>-22.0</td>\n",
              "      <td>2.0</td>\n",
              "    </tr>\n",
              "    <tr>\n",
              "      <th>3</th>\n",
              "      <td>3</td>\n",
              "      <td>F</td>\n",
              "      <td>N</td>\n",
              "      <td>Y</td>\n",
              "      <td>0</td>\n",
              "      <td>202500.0</td>\n",
              "      <td>Commercial associate</td>\n",
              "      <td>Secondary / secondary special</td>\n",
              "      <td>Married</td>\n",
              "      <td>House / apartment</td>\n",
              "      <td>-15088</td>\n",
              "      <td>-2092</td>\n",
              "      <td>1</td>\n",
              "      <td>0</td>\n",
              "      <td>1</td>\n",
              "      <td>0</td>\n",
              "      <td>Sales staff</td>\n",
              "      <td>2.0</td>\n",
              "      <td>-37.0</td>\n",
              "      <td>0.0</td>\n",
              "    </tr>\n",
              "    <tr>\n",
              "      <th>4</th>\n",
              "      <td>4</td>\n",
              "      <td>F</td>\n",
              "      <td>Y</td>\n",
              "      <td>Y</td>\n",
              "      <td>0</td>\n",
              "      <td>157500.0</td>\n",
              "      <td>State servant</td>\n",
              "      <td>Higher education</td>\n",
              "      <td>Married</td>\n",
              "      <td>House / apartment</td>\n",
              "      <td>-15037</td>\n",
              "      <td>-2105</td>\n",
              "      <td>1</td>\n",
              "      <td>0</td>\n",
              "      <td>0</td>\n",
              "      <td>0</td>\n",
              "      <td>Managers</td>\n",
              "      <td>2.0</td>\n",
              "      <td>-26.0</td>\n",
              "      <td>2.0</td>\n",
              "    </tr>\n",
              "  </tbody>\n",
              "</table>\n",
              "</div>"
            ],
            "text/plain": [
              "   index gender car reality  ...   occyp_type  family_size begin_month credit\n",
              "0      0      F   N       N  ...          NaN          2.0        -6.0    1.0\n",
              "1      1      F   N       Y  ...     Laborers          3.0        -5.0    1.0\n",
              "2      2      M   Y       Y  ...     Managers          2.0       -22.0    2.0\n",
              "3      3      F   N       Y  ...  Sales staff          2.0       -37.0    0.0\n",
              "4      4      F   Y       Y  ...     Managers          2.0       -26.0    2.0\n",
              "\n",
              "[5 rows x 20 columns]"
            ]
          },
          "metadata": {
            "tags": []
          },
          "execution_count": 34
        }
      ]
    },
    {
      "cell_type": "code",
      "metadata": {
        "colab": {
          "base_uri": "https://localhost:8080/"
        },
        "id": "KjX2ibcB9-R6",
        "outputId": "de30cbf8-6417-49b8-9539-b38902829736"
      },
      "source": [
        "train.info()"
      ],
      "execution_count": 35,
      "outputs": [
        {
          "output_type": "stream",
          "text": [
            "<class 'pandas.core.frame.DataFrame'>\n",
            "RangeIndex: 26457 entries, 0 to 26456\n",
            "Data columns (total 20 columns):\n",
            " #   Column         Non-Null Count  Dtype  \n",
            "---  ------         --------------  -----  \n",
            " 0   index          26457 non-null  int64  \n",
            " 1   gender         26457 non-null  object \n",
            " 2   car            26457 non-null  object \n",
            " 3   reality        26457 non-null  object \n",
            " 4   child_num      26457 non-null  int64  \n",
            " 5   income_total   26457 non-null  float64\n",
            " 6   income_type    26457 non-null  object \n",
            " 7   edu_type       26457 non-null  object \n",
            " 8   family_type    26457 non-null  object \n",
            " 9   house_type     26457 non-null  object \n",
            " 10  DAYS_BIRTH     26457 non-null  int64  \n",
            " 11  DAYS_EMPLOYED  26457 non-null  int64  \n",
            " 12  FLAG_MOBIL     26457 non-null  int64  \n",
            " 13  work_phone     26457 non-null  int64  \n",
            " 14  phone          26457 non-null  int64  \n",
            " 15  email          26457 non-null  int64  \n",
            " 16  occyp_type     18286 non-null  object \n",
            " 17  family_size    26457 non-null  float64\n",
            " 18  begin_month    26457 non-null  float64\n",
            " 19  credit         26457 non-null  float64\n",
            "dtypes: float64(4), int64(8), object(8)\n",
            "memory usage: 4.0+ MB\n"
          ],
          "name": "stdout"
        }
      ]
    },
    {
      "cell_type": "code",
      "metadata": {
        "id": "35_UDOQG-A_i"
      },
      "source": [
        "train=train.drop('occyp_type', axis=1)\n",
        "test=test.drop('occyp_type', axis=1) #그냥 드랍해버림"
      ],
      "execution_count": 36,
      "outputs": []
    },
    {
      "cell_type": "code",
      "metadata": {
        "colab": {
          "base_uri": "https://localhost:8080/"
        },
        "id": "CMGOIUT0-GZ-",
        "outputId": "8e0d58b9-6026-4d40-b3d0-ed99b318f6bc"
      },
      "source": [
        "train['gender'] = train['gender'].replace(['F','M'],[0,1]) #binary\n",
        "test['gender'] = test['gender'].replace(['F','M'],[0,1])\n",
        "print('gender :')\n",
        "print(train['gender'].value_counts())\n",
        "print('--------------')\n",
        "\n",
        "print('Having a car or not : ')\n",
        "train['car'] = train['car'].replace(['N','Y'],[0,1])\n",
        "test['car'] = test['car'].replace(['N','Y'],[0,1])\n",
        "print(train['car'].value_counts())\n",
        "print('--------------')\n",
        "\n",
        "print('Having house reality or not: ')\n",
        "train['reality'] = train['reality'].replace(['N','Y'],[0,1])\n",
        "test['reality'] = test['reality'].replace(['N','Y'],[0,1])\n",
        "print(train['reality'].value_counts())\n",
        "print('--------------')\n",
        "      \n",
        "print('Having a phone or not: ')\n",
        "print(train['phone'].value_counts())\n",
        "print('--------------')\n",
        "      \n",
        "\n",
        "print('Having a email or not: ')\n",
        "print(train['email'].value_counts())\n",
        "print('--------------')\n",
        "      \n",
        "\n",
        "print('Having a work phone or not: ')\n",
        "print(train['work_phone'].value_counts())\n",
        "print('--------------')"
      ],
      "execution_count": 37,
      "outputs": [
        {
          "output_type": "stream",
          "text": [
            "gender :\n",
            "0    17697\n",
            "1     8760\n",
            "Name: gender, dtype: int64\n",
            "--------------\n",
            "Having a car or not : \n",
            "0    16410\n",
            "1    10047\n",
            "Name: car, dtype: int64\n",
            "--------------\n",
            "Having house reality or not: \n",
            "1    17830\n",
            "0     8627\n",
            "Name: reality, dtype: int64\n",
            "--------------\n",
            "Having a phone or not: \n",
            "0    18672\n",
            "1     7785\n",
            "Name: phone, dtype: int64\n",
            "--------------\n",
            "Having a email or not: \n",
            "0    24042\n",
            "1     2415\n",
            "Name: email, dtype: int64\n",
            "--------------\n",
            "Having a work phone or not: \n",
            "0    20511\n",
            "1     5946\n",
            "Name: work_phone, dtype: int64\n",
            "--------------\n"
          ],
          "name": "stdout"
        }
      ]
    },
    {
      "cell_type": "code",
      "metadata": {
        "colab": {
          "base_uri": "https://localhost:8080/",
          "height": 286
        },
        "id": "pLGud9aq-KuT",
        "outputId": "bab2ea98-3faf-4478-a60e-733837a25ded"
      },
      "source": [
        "train['child_num'].value_counts(sort=False).plot.bar()"
      ],
      "execution_count": 38,
      "outputs": [
        {
          "output_type": "execute_result",
          "data": {
            "text/plain": [
              "<matplotlib.axes._subplots.AxesSubplot at 0x7fd109a3fa50>"
            ]
          },
          "metadata": {
            "tags": []
          },
          "execution_count": 38
        },
        {
          "output_type": "display_data",
          "data": {
            "image/png": "[encoded data removed]",
            "text/plain": [
              "<Figure size 432x288 with 1 Axes>"
            ]
          },
          "metadata": {
            "tags": [],
            "needs_background": "light"
          }
        }
      ]
    },
    {
      "cell_type": "code",
      "metadata": {
        "id": "fFnnoibh-Wxa"
      },
      "source": [
        "train.loc[train['child_num'] >= 2,'child_num']=2 #자녀수 2 이상은 2\n",
        "test.loc[test['child_num']>=2, 'child_num']=2"
      ],
      "execution_count": 39,
      "outputs": []
    },
    {
      "cell_type": "code",
      "metadata": {
        "id": "terOtijm-z2V"
      },
      "source": [
        ""
      ],
      "execution_count": 39,
      "outputs": []
    },
    {
      "cell_type": "code",
      "metadata": {
        "colab": {
          "base_uri": "https://localhost:8080/",
          "height": 481
        },
        "id": "hX9Zzs9T-XuL",
        "outputId": "4609f2bd-092d-4593-acc6-1e77610f5a56"
      },
      "source": [
        "train['income_total'] = train['income_total'].astype(object)\n",
        "train['income_total'] = train['income_total']/10000 \n",
        "test['income_total'] = test['income_total']/10000\n",
        "##############################################################3\n",
        "print(train['income_total'].value_counts(bins=10,sort=False))\n",
        "train['income_total'].plot(kind='hist',bins=50,density=True)"
      ],
      "execution_count": 40,
      "outputs": [
        {
          "output_type": "stream",
          "text": [
            "(2.544, 18.18]      16212\n",
            "(18.18, 33.66]       8330\n",
            "(33.66, 49.14]       1530\n",
            "(49.14, 64.62]        206\n",
            "(64.62, 80.1]         121\n",
            "(80.1, 95.58]          44\n",
            "(95.58, 111.06]         3\n",
            "(111.06, 126.54]        2\n",
            "(126.54, 142.02]        4\n",
            "(142.02, 157.5]         5\n",
            "Name: income_total, dtype: int64\n"
          ],
          "name": "stdout"
        },
        {
          "output_type": "execute_result",
          "data": {
            "text/plain": [
              "<matplotlib.axes._subplots.AxesSubplot at 0x7fd1098eb910>"
            ]
          },
          "metadata": {
            "tags": []
          },
          "execution_count": 40
        },
        {
          "output_type": "display_data",
          "data": {
            "image/png": "[encoded data removed]",
            "text/plain": [
              "<Figure size 432x288 with 1 Axes>"
            ]
          },
          "metadata": {
            "tags": [],
            "needs_background": "light"
          }
        }
      ]
    },
    {
      "cell_type": "code",
      "metadata": {
        "colab": {
          "base_uri": "https://localhost:8080/"
        },
        "id": "VKPvhDBuAG6-",
        "outputId": "9a9f47de-9270-4ed6-b4e4-a7c1766d1e31"
      },
      "source": [
        "train['income_total'].head()"
      ],
      "execution_count": 55,
      "outputs": [
        {
          "output_type": "execute_result",
          "data": {
            "text/plain": [
              "0    0\n",
              "1    0\n",
              "2    1\n",
              "3    0\n",
              "4    0\n",
              "Name: income_total, dtype: int64"
            ]
          },
          "metadata": {
            "tags": []
          },
          "execution_count": 55
        }
      ]
    },
    {
      "cell_type": "code",
      "metadata": {
        "id": "ALKPdy_J-ZEK"
      },
      "source": [
        "count, bin_dividers =np.histogram(train['income_total'], bins=7)\n",
        "bin_names=['소득'+str(i) for i in range(7) ]\n",
        "#bin_dividers는 train기준!!\n",
        "train['income_total']=pd.cut(x=train['income_total'], bins=bin_dividers, labels=bin_names, include_lowest=True)\n",
        "test['income_total']=pd.cut(x=test['income_total'], bins=bin_dividers, labels=bin_names, include_lowest=True)"
      ],
      "execution_count": 42,
      "outputs": []
    },
    {
      "cell_type": "code",
      "metadata": {
        "colab": {
          "base_uri": "https://localhost:8080/",
          "height": 813
        },
        "id": "qdQtMTBv-bGj",
        "outputId": "0b1e35ba-92c7-47f6-de1c-0161a08f3c2c"
      },
      "source": [
        "test"
      ],
      "execution_count": 43,
      "outputs": [
        {
          "output_type": "execute_result",
          "data": {
            "text/html": [
              "<div>\n",
              "<style scoped>\n",
              "    .dataframe tbody tr th:only-of-type {\n",
              "        vertical-align: middle;\n",
              "    }\n",
              "\n",
              "    .dataframe tbody tr th {\n",
              "        vertical-align: top;\n",
              "    }\n",
              "\n",
              "    .dataframe thead th {\n",
              "        text-align: right;\n",
              "    }\n",
              "</style>\n",
              "<table border=\"1\" class=\"dataframe\">\n",
              "  <thead>\n",
              "    <tr style=\"text-align: right;\">\n",
              "      <th></th>\n",
              "      <th>index</th>\n",
              "      <th>gender</th>\n",
              "      <th>car</th>\n",
              "      <th>reality</th>\n",
              "      <th>child_num</th>\n",
              "      <th>income_total</th>\n",
              "      <th>income_type</th>\n",
              "      <th>edu_type</th>\n",
              "      <th>family_type</th>\n",
              "      <th>house_type</th>\n",
              "      <th>DAYS_BIRTH</th>\n",
              "      <th>DAYS_EMPLOYED</th>\n",
              "      <th>FLAG_MOBIL</th>\n",
              "      <th>work_phone</th>\n",
              "      <th>phone</th>\n",
              "      <th>email</th>\n",
              "      <th>family_size</th>\n",
              "      <th>begin_month</th>\n",
              "    </tr>\n",
              "  </thead>\n",
              "  <tbody>\n",
              "    <tr>\n",
              "      <th>0</th>\n",
              "      <td>26457</td>\n",
              "      <td>1</td>\n",
              "      <td>1</td>\n",
              "      <td>0</td>\n",
              "      <td>0</td>\n",
              "      <td>소득0</td>\n",
              "      <td>Pensioner</td>\n",
              "      <td>Secondary / secondary special</td>\n",
              "      <td>Civil marriage</td>\n",
              "      <td>House / apartment</td>\n",
              "      <td>-21990</td>\n",
              "      <td>365243</td>\n",
              "      <td>1</td>\n",
              "      <td>0</td>\n",
              "      <td>1</td>\n",
              "      <td>0</td>\n",
              "      <td>2.0</td>\n",
              "      <td>-60.0</td>\n",
              "    </tr>\n",
              "    <tr>\n",
              "      <th>1</th>\n",
              "      <td>26458</td>\n",
              "      <td>0</td>\n",
              "      <td>0</td>\n",
              "      <td>1</td>\n",
              "      <td>0</td>\n",
              "      <td>소득0</td>\n",
              "      <td>State servant</td>\n",
              "      <td>Higher education</td>\n",
              "      <td>Married</td>\n",
              "      <td>House / apartment</td>\n",
              "      <td>-18964</td>\n",
              "      <td>-8671</td>\n",
              "      <td>1</td>\n",
              "      <td>0</td>\n",
              "      <td>1</td>\n",
              "      <td>0</td>\n",
              "      <td>2.0</td>\n",
              "      <td>-36.0</td>\n",
              "    </tr>\n",
              "    <tr>\n",
              "      <th>2</th>\n",
              "      <td>26459</td>\n",
              "      <td>0</td>\n",
              "      <td>0</td>\n",
              "      <td>1</td>\n",
              "      <td>0</td>\n",
              "      <td>소득0</td>\n",
              "      <td>Working</td>\n",
              "      <td>Secondary / secondary special</td>\n",
              "      <td>Married</td>\n",
              "      <td>House / apartment</td>\n",
              "      <td>-15887</td>\n",
              "      <td>-217</td>\n",
              "      <td>1</td>\n",
              "      <td>1</td>\n",
              "      <td>1</td>\n",
              "      <td>0</td>\n",
              "      <td>2.0</td>\n",
              "      <td>-40.0</td>\n",
              "    </tr>\n",
              "    <tr>\n",
              "      <th>3</th>\n",
              "      <td>26460</td>\n",
              "      <td>1</td>\n",
              "      <td>1</td>\n",
              "      <td>0</td>\n",
              "      <td>0</td>\n",
              "      <td>소득0</td>\n",
              "      <td>Commercial associate</td>\n",
              "      <td>Secondary / secondary special</td>\n",
              "      <td>Married</td>\n",
              "      <td>House / apartment</td>\n",
              "      <td>-19270</td>\n",
              "      <td>-2531</td>\n",
              "      <td>1</td>\n",
              "      <td>1</td>\n",
              "      <td>0</td>\n",
              "      <td>0</td>\n",
              "      <td>2.0</td>\n",
              "      <td>-41.0</td>\n",
              "    </tr>\n",
              "    <tr>\n",
              "      <th>4</th>\n",
              "      <td>26461</td>\n",
              "      <td>0</td>\n",
              "      <td>1</td>\n",
              "      <td>1</td>\n",
              "      <td>0</td>\n",
              "      <td>소득0</td>\n",
              "      <td>State servant</td>\n",
              "      <td>Higher education</td>\n",
              "      <td>Married</td>\n",
              "      <td>House / apartment</td>\n",
              "      <td>-17822</td>\n",
              "      <td>-9385</td>\n",
              "      <td>1</td>\n",
              "      <td>1</td>\n",
              "      <td>0</td>\n",
              "      <td>0</td>\n",
              "      <td>2.0</td>\n",
              "      <td>-8.0</td>\n",
              "    </tr>\n",
              "    <tr>\n",
              "      <th>...</th>\n",
              "      <td>...</td>\n",
              "      <td>...</td>\n",
              "      <td>...</td>\n",
              "      <td>...</td>\n",
              "      <td>...</td>\n",
              "      <td>...</td>\n",
              "      <td>...</td>\n",
              "      <td>...</td>\n",
              "      <td>...</td>\n",
              "      <td>...</td>\n",
              "      <td>...</td>\n",
              "      <td>...</td>\n",
              "      <td>...</td>\n",
              "      <td>...</td>\n",
              "      <td>...</td>\n",
              "      <td>...</td>\n",
              "      <td>...</td>\n",
              "      <td>...</td>\n",
              "    </tr>\n",
              "    <tr>\n",
              "      <th>9995</th>\n",
              "      <td>36452</td>\n",
              "      <td>0</td>\n",
              "      <td>1</td>\n",
              "      <td>1</td>\n",
              "      <td>0</td>\n",
              "      <td>소득0</td>\n",
              "      <td>Working</td>\n",
              "      <td>Incomplete higher</td>\n",
              "      <td>Married</td>\n",
              "      <td>House / apartment</td>\n",
              "      <td>-18593</td>\n",
              "      <td>-5434</td>\n",
              "      <td>1</td>\n",
              "      <td>1</td>\n",
              "      <td>1</td>\n",
              "      <td>0</td>\n",
              "      <td>2.0</td>\n",
              "      <td>-19.0</td>\n",
              "    </tr>\n",
              "    <tr>\n",
              "      <th>9996</th>\n",
              "      <td>36453</td>\n",
              "      <td>1</td>\n",
              "      <td>1</td>\n",
              "      <td>1</td>\n",
              "      <td>0</td>\n",
              "      <td>소득0</td>\n",
              "      <td>Working</td>\n",
              "      <td>Secondary / secondary special</td>\n",
              "      <td>Civil marriage</td>\n",
              "      <td>House / apartment</td>\n",
              "      <td>-10886</td>\n",
              "      <td>-1315</td>\n",
              "      <td>1</td>\n",
              "      <td>1</td>\n",
              "      <td>0</td>\n",
              "      <td>0</td>\n",
              "      <td>2.0</td>\n",
              "      <td>-34.0</td>\n",
              "    </tr>\n",
              "    <tr>\n",
              "      <th>9997</th>\n",
              "      <td>36454</td>\n",
              "      <td>0</td>\n",
              "      <td>0</td>\n",
              "      <td>1</td>\n",
              "      <td>0</td>\n",
              "      <td>소득1</td>\n",
              "      <td>Working</td>\n",
              "      <td>Secondary / secondary special</td>\n",
              "      <td>Married</td>\n",
              "      <td>House / apartment</td>\n",
              "      <td>-21016</td>\n",
              "      <td>-14018</td>\n",
              "      <td>1</td>\n",
              "      <td>0</td>\n",
              "      <td>0</td>\n",
              "      <td>0</td>\n",
              "      <td>2.0</td>\n",
              "      <td>-55.0</td>\n",
              "    </tr>\n",
              "    <tr>\n",
              "      <th>9998</th>\n",
              "      <td>36455</td>\n",
              "      <td>0</td>\n",
              "      <td>1</td>\n",
              "      <td>0</td>\n",
              "      <td>0</td>\n",
              "      <td>소득0</td>\n",
              "      <td>Commercial associate</td>\n",
              "      <td>Secondary / secondary special</td>\n",
              "      <td>Married</td>\n",
              "      <td>House / apartment</td>\n",
              "      <td>-16541</td>\n",
              "      <td>-1085</td>\n",
              "      <td>1</td>\n",
              "      <td>0</td>\n",
              "      <td>1</td>\n",
              "      <td>0</td>\n",
              "      <td>2.0</td>\n",
              "      <td>-33.0</td>\n",
              "    </tr>\n",
              "    <tr>\n",
              "      <th>9999</th>\n",
              "      <td>36456</td>\n",
              "      <td>0</td>\n",
              "      <td>0</td>\n",
              "      <td>1</td>\n",
              "      <td>0</td>\n",
              "      <td>소득1</td>\n",
              "      <td>Working</td>\n",
              "      <td>Higher education</td>\n",
              "      <td>Married</td>\n",
              "      <td>House / apartment</td>\n",
              "      <td>-9154</td>\n",
              "      <td>-187</td>\n",
              "      <td>1</td>\n",
              "      <td>0</td>\n",
              "      <td>0</td>\n",
              "      <td>1</td>\n",
              "      <td>2.0</td>\n",
              "      <td>-11.0</td>\n",
              "    </tr>\n",
              "  </tbody>\n",
              "</table>\n",
              "<p>10000 rows × 18 columns</p>\n",
              "</div>"
            ],
            "text/plain": [
              "      index  gender  car  reality  ...  phone email family_size begin_month\n",
              "0     26457       1    1        0  ...      1     0         2.0       -60.0\n",
              "1     26458       0    0        1  ...      1     0         2.0       -36.0\n",
              "2     26459       0    0        1  ...      1     0         2.0       -40.0\n",
              "3     26460       1    1        0  ...      0     0         2.0       -41.0\n",
              "4     26461       0    1        1  ...      0     0         2.0        -8.0\n",
              "...     ...     ...  ...      ...  ...    ...   ...         ...         ...\n",
              "9995  36452       0    1        1  ...      1     0         2.0       -19.0\n",
              "9996  36453       1    1        1  ...      0     0         2.0       -34.0\n",
              "9997  36454       0    0        1  ...      0     0         2.0       -55.0\n",
              "9998  36455       0    1        0  ...      1     0         2.0       -33.0\n",
              "9999  36456       0    0        1  ...      0     1         2.0       -11.0\n",
              "\n",
              "[10000 rows x 18 columns]"
            ]
          },
          "metadata": {
            "tags": []
          },
          "execution_count": 43
        }
      ]
    },
    {
      "cell_type": "code",
      "metadata": {
        "id": "1oF0MhCT-cRq"
      },
      "source": [
        "from sklearn import preprocessing\n",
        "label_encoder=preprocessing.LabelEncoder()\n",
        "train['income_type']=label_encoder.fit_transform(train['income_type'])\n",
        "test['income_type']=label_encoder.transform(test['income_type'])\n",
        "########################################################################\n",
        "train['edu_type']=label_encoder.fit_transform(train['edu_type'])\n",
        "test['edu_type']=label_encoder.transform(test['edu_type'])\n",
        "########################################################################\n",
        "train['family_type']=label_encoder.fit_transform(train['family_type'])\n",
        "test['family_type']=label_encoder.transform(test['family_type'])\n",
        "########################################################################\n",
        "train['house_type']=label_encoder.fit_transform(train['house_type'])\n",
        "test['house_type']=label_encoder.transform(test['house_type'])\n",
        "########################################################################\n",
        "train['income_total']=label_encoder.fit_transform(train['income_total'])\n",
        "test['income_total']=label_encoder.fit_transform(test['income_total'])"
      ],
      "execution_count": 44,
      "outputs": []
    },
    {
      "cell_type": "code",
      "metadata": {
        "id": "Bxrv8wbF-emC"
      },
      "source": [
        "def make_bin(variable, n):\n",
        "    train[variable]=-train[variable]\n",
        "    test[variable]=-test[variable]\n",
        "    count, bin_dividers =np.histogram(train[variable], bins=n) #train의 구간화를 적용\n",
        "    bin_names=[str(i) for i in range(n)]\n",
        "    train[variable]=pd.cut(x=train[variable], bins=bin_dividers, labels=bin_names, include_lowest=True)\n",
        "    test[variable]=pd.cut(x=test[variable], bins=bin_dividers, labels=bin_names, include_lowest=True)\n",
        "    test[variable].fillna(str(0), inplace=True) #test에는 없는 것을 임의의 값으로 채움\n",
        "    ##########################################################\n",
        "    train[variable]=label_encoder.fit_transform(train[variable])\n",
        "    test[variable]=label_encoder.transform(test[variable])"
      ],
      "execution_count": 45,
      "outputs": []
    },
    {
      "cell_type": "code",
      "metadata": {
        "colab": {
          "base_uri": "https://localhost:8080/"
        },
        "id": "Xcd9pT9W-kc6",
        "outputId": "f90df851-7371-47aa-c929-d11937f39b68"
      },
      "source": [
        "train.columns"
      ],
      "execution_count": 46,
      "outputs": [
        {
          "output_type": "execute_result",
          "data": {
            "text/plain": [
              "Index(['index', 'gender', 'car', 'reality', 'child_num', 'income_total',\n",
              "       'income_type', 'edu_type', 'family_type', 'house_type', 'DAYS_BIRTH',\n",
              "       'DAYS_EMPLOYED', 'FLAG_MOBIL', 'work_phone', 'phone', 'email',\n",
              "       'family_size', 'begin_month', 'credit'],\n",
              "      dtype='object')"
            ]
          },
          "metadata": {
            "tags": []
          },
          "execution_count": 46
        }
      ]
    },
    {
      "cell_type": "code",
      "metadata": {
        "id": "CQ_KO6Rk-loC"
      },
      "source": [
        "make_bin('DAYS_BIRTH', n=10)\n",
        "make_bin('DAYS_EMPLOYED', n=6)\n",
        "make_bin('begin_month', n=4)"
      ],
      "execution_count": 47,
      "outputs": []
    },
    {
      "cell_type": "code",
      "metadata": {
        "id": "2SHfCBbl-moK"
      },
      "source": [
        "train_x=train.drop('credit', axis=1)\n",
        "train_y=train[['credit']]\n",
        "test_x=test"
      ],
      "execution_count": 48,
      "outputs": []
    },
    {
      "cell_type": "code",
      "metadata": {
        "colab": {
          "base_uri": "https://localhost:8080/"
        },
        "id": "ZXM--gUA_IPj",
        "outputId": "8375946d-9082-4813-de83-b855044d3cb6"
      },
      "source": [
        "from sklearn.ensemble import RandomForestClassifier\n",
        "from sklearn.metrics import accuracy_score, log_loss\n",
        "from sklearn.metrics import f1_score\n",
        "from tensorflow.keras.utils import to_categorical\n",
        "\n",
        "X_train, X_val, y_train, y_val = train_test_split(train_x, train_y, \n",
        "                                                    stratify=train_y, test_size=0.25,\n",
        "                                                    random_state = 10086)\n",
        "\n",
        "print(\"Train set: \")\n",
        "print(X_train.shape)\n",
        "print(y_train.shape)\n",
        "print(\"===========\")\n",
        "print(\"Validation set: \")\n",
        "print(X_val.shape)\n",
        "print(y_val.shape)\n",
        "\n",
        "\n",
        "clf=RandomForestClassifier()\n",
        "clf.fit(X_train, y_train)\n",
        "y_pred=clf.predict_proba(X_val)\n",
        "\n",
        "print(f\"log_loss: {log_loss(to_categorical(y_val['credit']), y_pred)}\")"
      ],
      "execution_count": 49,
      "outputs": [
        {
          "output_type": "stream",
          "text": [
            "Train set: \n",
            "(19842, 18)\n",
            "(19842, 1)\n",
            "===========\n",
            "Validation set: \n",
            "(6615, 18)\n",
            "(6615, 1)\n",
            "log_loss: 1.0553355235418638\n"
          ],
          "name": "stdout"
        }
      ]
    },
    {
      "cell_type": "code",
      "metadata": {
        "colab": {
          "base_uri": "https://localhost:8080/"
        },
        "id": "T2ODMfNb_J5C",
        "outputId": "915bfd1a-3e61-4754-f8b2-685c9d4d4cb7"
      },
      "source": [
        "from sklearn.model_selection import KFold, StratifiedKFold\n",
        "\n",
        "def run_kfold(clf):\n",
        "    folds=StratifiedKFold(n_splits=5, shuffle=True, random_state=55)\n",
        "    outcomes=[]\n",
        "    sub=np.zeros((test_x.shape[0], 3))  \n",
        "    for n_fold, (train_index, val_index) in enumerate(folds.split(train_x, train_y)):\n",
        "        X_train, X_val = train_x.iloc[train_index], train_x.iloc[val_index]\n",
        "        y_train, y_val = train_y.iloc[train_index], train_y.iloc[val_index]\n",
        "        clf.fit(X_train, y_train)\n",
        "        \n",
        "        predictions=clf.predict_proba(X_val)\n",
        "        \n",
        "        logloss=log_loss(to_categorical(y_val['credit']), predictions)\n",
        "        outcomes.append(logloss)\n",
        "        print(f\"FOLD {n_fold} : logloss:{logloss}\")\n",
        "        \n",
        "        sub+=clf.predict_proba(test_x)\n",
        "        \n",
        "        \n",
        "    mean_outcome=np.mean(outcomes)\n",
        "    \n",
        "    print(\"Mean:{}\".format(mean_outcome))\n",
        "    return sub/folds.n_splits\n",
        "\n",
        "my_submission = run_kfold(clf)"
      ],
      "execution_count": 50,
      "outputs": [
        {
          "output_type": "stream",
          "text": [
            "FOLD 0 : logloss:1.04958659090833\n",
            "FOLD 1 : logloss:1.0620392231517992\n",
            "FOLD 2 : logloss:1.084425545901285\n",
            "FOLD 3 : logloss:1.0194270422791083\n",
            "FOLD 4 : logloss:1.0672811546705525\n",
            "Mean:1.056551911382215\n"
          ],
          "name": "stdout"
        }
      ]
    },
    {
      "cell_type": "code",
      "metadata": {
        "colab": {
          "base_uri": "https://localhost:8080/"
        },
        "id": "hXVe1yCc_LnC",
        "outputId": "b3aa3a89-1691-457a-9e4b-1caba1a4d183"
      },
      "source": [
        "my_submission"
      ],
      "execution_count": 51,
      "outputs": [
        {
          "output_type": "execute_result",
          "data": {
            "text/plain": [
              "array([[0.112, 0.196, 0.692],\n",
              "       [0.09 , 0.218, 0.692],\n",
              "       [0.06 , 0.252, 0.688],\n",
              "       ...,\n",
              "       [0.08 , 0.114, 0.806],\n",
              "       [0.086, 0.408, 0.506],\n",
              "       [0.132, 0.362, 0.506]])"
            ]
          },
          "metadata": {
            "tags": []
          },
          "execution_count": 51
        }
      ]
    },
    {
      "cell_type": "code",
      "metadata": {
        "colab": {
          "base_uri": "https://localhost:8080/",
          "height": 419
        },
        "id": "ogxFmRPF_NIT",
        "outputId": "1f308565-bb06-4671-d2ab-dd0f4c62b19c"
      },
      "source": [
        "submission"
      ],
      "execution_count": 27,
      "outputs": [
        {
          "output_type": "execute_result",
          "data": {
            "text/html": [
              "<div>\n",
              "<style scoped>\n",
              "    .dataframe tbody tr th:only-of-type {\n",
              "        vertical-align: middle;\n",
              "    }\n",
              "\n",
              "    .dataframe tbody tr th {\n",
              "        vertical-align: top;\n",
              "    }\n",
              "\n",
              "    .dataframe thead th {\n",
              "        text-align: right;\n",
              "    }\n",
              "</style>\n",
              "<table border=\"1\" class=\"dataframe\">\n",
              "  <thead>\n",
              "    <tr style=\"text-align: right;\">\n",
              "      <th></th>\n",
              "      <th>index</th>\n",
              "      <th>0</th>\n",
              "      <th>1</th>\n",
              "      <th>2</th>\n",
              "    </tr>\n",
              "  </thead>\n",
              "  <tbody>\n",
              "    <tr>\n",
              "      <th>0</th>\n",
              "      <td>26457</td>\n",
              "      <td>0</td>\n",
              "      <td>0</td>\n",
              "      <td>0</td>\n",
              "    </tr>\n",
              "    <tr>\n",
              "      <th>1</th>\n",
              "      <td>26458</td>\n",
              "      <td>0</td>\n",
              "      <td>0</td>\n",
              "      <td>0</td>\n",
              "    </tr>\n",
              "    <tr>\n",
              "      <th>2</th>\n",
              "      <td>26459</td>\n",
              "      <td>0</td>\n",
              "      <td>0</td>\n",
              "      <td>0</td>\n",
              "    </tr>\n",
              "    <tr>\n",
              "      <th>3</th>\n",
              "      <td>26460</td>\n",
              "      <td>0</td>\n",
              "      <td>0</td>\n",
              "      <td>0</td>\n",
              "    </tr>\n",
              "    <tr>\n",
              "      <th>4</th>\n",
              "      <td>26461</td>\n",
              "      <td>0</td>\n",
              "      <td>0</td>\n",
              "      <td>0</td>\n",
              "    </tr>\n",
              "    <tr>\n",
              "      <th>...</th>\n",
              "      <td>...</td>\n",
              "      <td>...</td>\n",
              "      <td>...</td>\n",
              "      <td>...</td>\n",
              "    </tr>\n",
              "    <tr>\n",
              "      <th>9995</th>\n",
              "      <td>36452</td>\n",
              "      <td>0</td>\n",
              "      <td>0</td>\n",
              "      <td>0</td>\n",
              "    </tr>\n",
              "    <tr>\n",
              "      <th>9996</th>\n",
              "      <td>36453</td>\n",
              "      <td>0</td>\n",
              "      <td>0</td>\n",
              "      <td>0</td>\n",
              "    </tr>\n",
              "    <tr>\n",
              "      <th>9997</th>\n",
              "      <td>36454</td>\n",
              "      <td>0</td>\n",
              "      <td>0</td>\n",
              "      <td>0</td>\n",
              "    </tr>\n",
              "    <tr>\n",
              "      <th>9998</th>\n",
              "      <td>36455</td>\n",
              "      <td>0</td>\n",
              "      <td>0</td>\n",
              "      <td>0</td>\n",
              "    </tr>\n",
              "    <tr>\n",
              "      <th>9999</th>\n",
              "      <td>36456</td>\n",
              "      <td>0</td>\n",
              "      <td>0</td>\n",
              "      <td>0</td>\n",
              "    </tr>\n",
              "  </tbody>\n",
              "</table>\n",
              "<p>10000 rows × 4 columns</p>\n",
              "</div>"
            ],
            "text/plain": [
              "      index  0  1  2\n",
              "0     26457  0  0  0\n",
              "1     26458  0  0  0\n",
              "2     26459  0  0  0\n",
              "3     26460  0  0  0\n",
              "4     26461  0  0  0\n",
              "...     ... .. .. ..\n",
              "9995  36452  0  0  0\n",
              "9996  36453  0  0  0\n",
              "9997  36454  0  0  0\n",
              "9998  36455  0  0  0\n",
              "9999  36456  0  0  0\n",
              "\n",
              "[10000 rows x 4 columns]"
            ]
          },
          "metadata": {
            "tags": []
          },
          "execution_count": 27
        }
      ]
    },
    {
      "cell_type": "code",
      "metadata": {
        "id": "8MYUVnh-_OWb"
      },
      "source": [
        ""
      ],
      "execution_count": null,
      "outputs": []
    }
  ]
}