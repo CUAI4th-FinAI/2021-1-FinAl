{
  "nbformat": 4,
  "nbformat_minor": 0,
  "metadata": {
    "colab": {
      "name": "Untitled0.ipynb",
      "provenance": []
    },
    "kernelspec": {
      "name": "python3",
      "display_name": "Python 3"
    },
    "language_info": {
      "name": "python"
    }
  },
  "cells": [
    {
      "cell_type": "markdown",
      "metadata": {
        "id": "JM17Gt7mhXiD"
      },
      "source": [
        "6장 학습 관련 기술들"
      ]
    },
    {
      "cell_type": "code",
      "metadata": {
        "id": "pb9STA3VcMQO"
      },
      "source": [
        "class SGD:\n",
        "    \n",
        "    def __init__(self, lr=0.01):\n",
        "        self.lr=lr\n",
        "        \n",
        "    def update(self, params, grads):\n",
        "        for key in params.keys():\n",
        "            params[key] -= self.lr * grads[key]"
      ],
      "execution_count": 1,
      "outputs": []
    },
    {
      "cell_type": "code",
      "metadata": {
        "id": "CkMYFlSmdDlw"
      },
      "source": [
        "class Momentum:\n",
        "\n",
        "    def __init__(self, lr=0.01, momentum=0.9):\n",
        "        self.lr = lr\n",
        "        self.momentum = momentum\n",
        "        self.v = None\n",
        "        \n",
        "    def update(self, params, grads):\n",
        "        \n",
        "        if self.v is None:\n",
        "            self.v = {}\n",
        "            for key, val in params.items():                  \n",
        "                self.v[key] = np.zeros_like(val)\n",
        "                \n",
        "        for key in params.keys():\n",
        "            self.v[key] = self.momentum*self.v[key] - self.lr*grads[key] \n",
        "            params[key] += self.v[key]"
      ],
      "execution_count": 2,
      "outputs": []
    },
    {
      "cell_type": "code",
      "metadata": {
        "id": "RmK02SZeegM3"
      },
      "source": [
        "class AdaGrad:\n",
        "\n",
        "    def __init__(self, lr=0.01):\n",
        "        self.lr = lr\n",
        "        self.h = None\n",
        "        \n",
        "    def update(self, params, grads):\n",
        "        if self.h is None:\n",
        "            self.h = {}\n",
        "            for key, val in params.items():\n",
        "                self.h[key] = np.zeros_like(val)\n",
        "            \n",
        "        for key in params.keys():\n",
        "            self.h[key] += grads[key] * grads[key]\n",
        "            params[key] -= self.lr * grads[key] / (np.sqrt(self.h[key]) + 1e-7)"
      ],
      "execution_count": 3,
      "outputs": []
    },
    {
      "cell_type": "code",
      "metadata": {
        "colab": {
          "base_uri": "https://localhost:8080/",
          "height": 281
        },
        "id": "m7OuwBG0em1H",
        "outputId": "68f3e0a3-cc30-4090-c908-faad253e79a7"
      },
      "source": [
        "import numpy as np\n",
        "import matplotlib.pyplot as plt\n",
        "\n",
        "\n",
        "def sigmoid(x):\n",
        "    return 1 / (1 + np.exp(-x))\n",
        "\n",
        "\n",
        "def ReLU(x):\n",
        "    return np.maximum(0, x)\n",
        "\n",
        "\n",
        "def tanh(x):\n",
        "    return np.tanh(x)\n",
        "    \n",
        "input_data = np.random.randn(1000, 100) \n",
        "node_num = 100  \n",
        "hidden_layer_size = 5  \n",
        "activations = {}  \n",
        "\n",
        "x = input_data\n",
        "\n",
        "for i in range(hidden_layer_size):\n",
        "    if i != 0:\n",
        "        x = activations[i-1]\n",
        "\n",
        "    w = np.random.randn(node_num, node_num) * 1\n",
        "\n",
        "    a = np.dot(x, w)\n",
        "\n",
        "    z = sigmoid(a)\n",
        "    activations[i] = z\n",
        "\n",
        "for i, a in activations.items():\n",
        "    plt.subplot(1, len(activations), i+1)\n",
        "    plt.title(str(i+1) + \"-layer\")\n",
        "    plt.hist(a.flatten(), 30, range=(0,1))\n",
        "plt.show()"
      ],
      "execution_count": 7,
      "outputs": [
        {
          "output_type": "display_data",
          "data": {
            "image/png": "[encoded data removed]",
            "text/plain": [
              "<Figure size 432x288 with 5 Axes>"
            ]
          },
          "metadata": {
            "tags": [],
            "needs_background": "light"
          }
        }
      ]
    },
    {
      "cell_type": "code",
      "metadata": {
        "id": "_udc45a1ezEH"
      },
      "source": [
        "w = np.random.rand(node_num, node_num) *0.01"
      ],
      "execution_count": 6,
      "outputs": []
    },
    {
      "cell_type": "code",
      "metadata": {
        "colab": {
          "base_uri": "https://localhost:8080/"
        },
        "id": "jKm2ZPoKflbw",
        "outputId": "cd1220e4-16bc-421c-934f-17490ee5567d"
      },
      "source": [
        "import tensorflow as tf\n",
        "\n",
        "train_data,test_data = tf.keras.datasets.mnist.load_data()\n",
        "(x_train, t_train) = train_data\n",
        "(x_test, t_test) = test_data\n",
        "\n",
        "x_train = x_train.reshape(-1, 28**2)\n",
        "x_test = x_test.reshape(-1, 28**2)"
      ],
      "execution_count": 8,
      "outputs": [
        {
          "output_type": "stream",
          "text": [
            "Downloading data from https://storage.googleapis.com/tensorflow/tf-keras-datasets/mnist.npz\n",
            "11493376/11490434 [==============================] - 0s 0us/step\n"
          ],
          "name": "stdout"
        }
      ]
    },
    {
      "cell_type": "code",
      "metadata": {
        "id": "2Pr9ASxYgJ1f"
      },
      "source": [
        "x_train = x_train[:300]\n",
        "t_train = t_train[:300]"
      ],
      "execution_count": 9,
      "outputs": []
    },
    {
      "cell_type": "code",
      "metadata": {
        "colab": {
          "base_uri": "https://localhost:8080/"
        },
        "id": "LnS5SotqgYPS",
        "outputId": "83f5932b-e78f-4b9b-a68b-467bd37c6bf1"
      },
      "source": [
        "from google.colab import drive\n",
        "drive.mount('/content/drive')"
      ],
      "execution_count": 12,
      "outputs": [
        {
          "output_type": "stream",
          "text": [
            "Mounted at /content/drive\n"
          ],
          "name": "stdout"
        }
      ]
    },
    {
      "cell_type": "code",
      "metadata": {
        "colab": {
          "base_uri": "https://localhost:8080/",
          "height": 35
        },
        "id": "MMvjoYL0gkKR",
        "outputId": "37bae87a-e5df-4f7c-9567-4bb8be809cf6"
      },
      "source": [
        "pwd"
      ],
      "execution_count": 17,
      "outputs": [
        {
          "output_type": "execute_result",
          "data": {
            "application/vnd.google.colaboratory.intrinsic+json": {
              "type": "string"
            },
            "text/plain": [
              "'/content'"
            ]
          },
          "metadata": {
            "tags": []
          },
          "execution_count": 17
        }
      ]
    },
    {
      "cell_type": "code",
      "metadata": {
        "id": "Q9WxN7LaiAwK"
      },
      "source": [
        "import sys\n",
        "sys.path.append('/content/drive/MyDrive/Cola/')"
      ],
      "execution_count": 24,
      "outputs": []
    },
    {
      "cell_type": "code",
      "metadata": {
        "colab": {
          "base_uri": "https://localhost:8080/"
        },
        "id": "1H2_p1mAgM4H",
        "outputId": "4f046c4d-0656-41c2-f83c-1673e2998ade"
      },
      "source": [
        "import os\n",
        "from common.multi_layer_net import MultiLayerNet\n",
        "\n",
        "network = MultiLayerNet(input_size=784, hidden_size_list=[100, 100, 100, 100, 100, 100], output_size=10)\n",
        "optimizer = SGD(lr=0.01)\n",
        "\n",
        "max_epochs = 201\n",
        "train_size = x_train.shape[0]\n",
        "batch_size = 100\n",
        "\n",
        "train_loss_list = []\n",
        "train_acc_list = []\n",
        "test_acc_list = []\n",
        "\n",
        "iter_per_epoch = max(train_size / batch_size, 1)\n",
        "epoch_cnt = 0\n",
        "\n",
        "for i in range(1000000000):\n",
        "    batch_mask = np.random.choice(train_size, batch_size)\n",
        "    x_batch = x_train[batch_mask]\n",
        "    t_batch = t_train[batch_mask]\n",
        "\n",
        "    grads = network.gradient(x_batch, t_batch)\n",
        "    optimizer.update(network.params, grads)\n",
        "\n",
        "    if i % iter_per_epoch == 0:\n",
        "        train_acc = network.accuracy(x_train, t_train)\n",
        "        test_acc = network.accuracy(x_test, t_test)\n",
        "        train_acc_list.append(train_acc)\n",
        "        test_acc_list.append(test_acc)\n",
        "\n",
        "        print(\"epoch:\" + str(epoch_cnt) + \", train acc:\" + str(train_acc) + \", test acc:\" + str(test_acc))\n",
        "\n",
        "        epoch_cnt += 1\n",
        "        if epoch_cnt >= max_epochs:\n",
        "            break"
      ],
      "execution_count": 25,
      "outputs": [
        {
          "output_type": "stream",
          "text": [
            "epoch:0, train acc:0.11333333333333333, test acc:0.098\n",
            "epoch:1, train acc:0.07, test acc:0.0974\n",
            "epoch:2, train acc:0.11333333333333333, test acc:0.098\n"
          ],
          "name": "stdout"
        },
        {
          "output_type": "stream",
          "text": [
            "/content/drive/MyDrive/Cola/common/multi_layer_net.py:92: RuntimeWarning: overflow encountered in square\n",
            "  weight_decay += 0.5 * self.weight_decay_lambda * np.sum(W ** 2)\n",
            "/content/drive/MyDrive/Cola/common/multi_layer_net.py:92: RuntimeWarning: invalid value encountered in double_scalars\n",
            "  weight_decay += 0.5 * self.weight_decay_lambda * np.sum(W ** 2)\n",
            "/usr/local/lib/python3.7/dist-packages/numpy/core/fromnumeric.py:87: RuntimeWarning: overflow encountered in reduce\n",
            "  return ufunc.reduce(obj, axis, dtype, out, **passkwargs)\n",
            "/content/drive/MyDrive/Cola/common/functions.py:34: RuntimeWarning: invalid value encountered in subtract\n",
            "  x = x - np.max(x, axis=0)\n"
          ],
          "name": "stderr"
        },
        {
          "output_type": "stream",
          "text": [
            "epoch:3, train acc:0.11333333333333333, test acc:0.098\n",
            "epoch:4, train acc:0.11333333333333333, test acc:0.098\n",
            "epoch:5, train acc:0.11333333333333333, test acc:0.098\n",
            "epoch:6, train acc:0.11333333333333333, test acc:0.098\n",
            "epoch:7, train acc:0.11333333333333333, test acc:0.098\n",
            "epoch:8, train acc:0.11333333333333333, test acc:0.098\n",
            "epoch:9, train acc:0.11333333333333333, test acc:0.098\n",
            "epoch:10, train acc:0.11333333333333333, test acc:0.098\n",
            "epoch:11, train acc:0.11333333333333333, test acc:0.098\n",
            "epoch:12, train acc:0.11333333333333333, test acc:0.098\n",
            "epoch:13, train acc:0.11333333333333333, test acc:0.098\n",
            "epoch:14, train acc:0.11333333333333333, test acc:0.098\n",
            "epoch:15, train acc:0.11333333333333333, test acc:0.098\n",
            "epoch:16, train acc:0.11333333333333333, test acc:0.098\n",
            "epoch:17, train acc:0.11333333333333333, test acc:0.098\n",
            "epoch:18, train acc:0.11333333333333333, test acc:0.098\n",
            "epoch:19, train acc:0.11333333333333333, test acc:0.098\n",
            "epoch:20, train acc:0.11333333333333333, test acc:0.098\n",
            "epoch:21, train acc:0.11333333333333333, test acc:0.098\n",
            "epoch:22, train acc:0.11333333333333333, test acc:0.098\n",
            "epoch:23, train acc:0.11333333333333333, test acc:0.098\n",
            "epoch:24, train acc:0.11333333333333333, test acc:0.098\n",
            "epoch:25, train acc:0.11333333333333333, test acc:0.098\n",
            "epoch:26, train acc:0.11333333333333333, test acc:0.098\n",
            "epoch:27, train acc:0.11333333333333333, test acc:0.098\n",
            "epoch:28, train acc:0.11333333333333333, test acc:0.098\n",
            "epoch:29, train acc:0.11333333333333333, test acc:0.098\n",
            "epoch:30, train acc:0.11333333333333333, test acc:0.098\n",
            "epoch:31, train acc:0.11333333333333333, test acc:0.098\n",
            "epoch:32, train acc:0.11333333333333333, test acc:0.098\n",
            "epoch:33, train acc:0.11333333333333333, test acc:0.098\n",
            "epoch:34, train acc:0.11333333333333333, test acc:0.098\n",
            "epoch:35, train acc:0.11333333333333333, test acc:0.098\n",
            "epoch:36, train acc:0.11333333333333333, test acc:0.098\n",
            "epoch:37, train acc:0.11333333333333333, test acc:0.098\n",
            "epoch:38, train acc:0.11333333333333333, test acc:0.098\n",
            "epoch:39, train acc:0.11333333333333333, test acc:0.098\n",
            "epoch:40, train acc:0.11333333333333333, test acc:0.098\n",
            "epoch:41, train acc:0.11333333333333333, test acc:0.098\n",
            "epoch:42, train acc:0.11333333333333333, test acc:0.098\n",
            "epoch:43, train acc:0.11333333333333333, test acc:0.098\n",
            "epoch:44, train acc:0.11333333333333333, test acc:0.098\n",
            "epoch:45, train acc:0.11333333333333333, test acc:0.098\n",
            "epoch:46, train acc:0.11333333333333333, test acc:0.098\n",
            "epoch:47, train acc:0.11333333333333333, test acc:0.098\n",
            "epoch:48, train acc:0.11333333333333333, test acc:0.098\n",
            "epoch:49, train acc:0.11333333333333333, test acc:0.098\n",
            "epoch:50, train acc:0.11333333333333333, test acc:0.098\n",
            "epoch:51, train acc:0.11333333333333333, test acc:0.098\n",
            "epoch:52, train acc:0.11333333333333333, test acc:0.098\n",
            "epoch:53, train acc:0.11333333333333333, test acc:0.098\n",
            "epoch:54, train acc:0.11333333333333333, test acc:0.098\n",
            "epoch:55, train acc:0.11333333333333333, test acc:0.098\n",
            "epoch:56, train acc:0.11333333333333333, test acc:0.098\n",
            "epoch:57, train acc:0.11333333333333333, test acc:0.098\n",
            "epoch:58, train acc:0.11333333333333333, test acc:0.098\n",
            "epoch:59, train acc:0.11333333333333333, test acc:0.098\n",
            "epoch:60, train acc:0.11333333333333333, test acc:0.098\n",
            "epoch:61, train acc:0.11333333333333333, test acc:0.098\n",
            "epoch:62, train acc:0.11333333333333333, test acc:0.098\n",
            "epoch:63, train acc:0.11333333333333333, test acc:0.098\n",
            "epoch:64, train acc:0.11333333333333333, test acc:0.098\n",
            "epoch:65, train acc:0.11333333333333333, test acc:0.098\n",
            "epoch:66, train acc:0.11333333333333333, test acc:0.098\n",
            "epoch:67, train acc:0.11333333333333333, test acc:0.098\n",
            "epoch:68, train acc:0.11333333333333333, test acc:0.098\n",
            "epoch:69, train acc:0.11333333333333333, test acc:0.098\n",
            "epoch:70, train acc:0.11333333333333333, test acc:0.098\n",
            "epoch:71, train acc:0.11333333333333333, test acc:0.098\n",
            "epoch:72, train acc:0.11333333333333333, test acc:0.098\n",
            "epoch:73, train acc:0.11333333333333333, test acc:0.098\n",
            "epoch:74, train acc:0.11333333333333333, test acc:0.098\n",
            "epoch:75, train acc:0.11333333333333333, test acc:0.098\n",
            "epoch:76, train acc:0.11333333333333333, test acc:0.098\n",
            "epoch:77, train acc:0.11333333333333333, test acc:0.098\n",
            "epoch:78, train acc:0.11333333333333333, test acc:0.098\n",
            "epoch:79, train acc:0.11333333333333333, test acc:0.098\n",
            "epoch:80, train acc:0.11333333333333333, test acc:0.098\n",
            "epoch:81, train acc:0.11333333333333333, test acc:0.098\n",
            "epoch:82, train acc:0.11333333333333333, test acc:0.098\n",
            "epoch:83, train acc:0.11333333333333333, test acc:0.098\n",
            "epoch:84, train acc:0.11333333333333333, test acc:0.098\n",
            "epoch:85, train acc:0.11333333333333333, test acc:0.098\n",
            "epoch:86, train acc:0.11333333333333333, test acc:0.098\n",
            "epoch:87, train acc:0.11333333333333333, test acc:0.098\n",
            "epoch:88, train acc:0.11333333333333333, test acc:0.098\n",
            "epoch:89, train acc:0.11333333333333333, test acc:0.098\n",
            "epoch:90, train acc:0.11333333333333333, test acc:0.098\n",
            "epoch:91, train acc:0.11333333333333333, test acc:0.098\n",
            "epoch:92, train acc:0.11333333333333333, test acc:0.098\n",
            "epoch:93, train acc:0.11333333333333333, test acc:0.098\n",
            "epoch:94, train acc:0.11333333333333333, test acc:0.098\n",
            "epoch:95, train acc:0.11333333333333333, test acc:0.098\n",
            "epoch:96, train acc:0.11333333333333333, test acc:0.098\n",
            "epoch:97, train acc:0.11333333333333333, test acc:0.098\n",
            "epoch:98, train acc:0.11333333333333333, test acc:0.098\n",
            "epoch:99, train acc:0.11333333333333333, test acc:0.098\n",
            "epoch:100, train acc:0.11333333333333333, test acc:0.098\n",
            "epoch:101, train acc:0.11333333333333333, test acc:0.098\n",
            "epoch:102, train acc:0.11333333333333333, test acc:0.098\n",
            "epoch:103, train acc:0.11333333333333333, test acc:0.098\n",
            "epoch:104, train acc:0.11333333333333333, test acc:0.098\n",
            "epoch:105, train acc:0.11333333333333333, test acc:0.098\n",
            "epoch:106, train acc:0.11333333333333333, test acc:0.098\n",
            "epoch:107, train acc:0.11333333333333333, test acc:0.098\n",
            "epoch:108, train acc:0.11333333333333333, test acc:0.098\n",
            "epoch:109, train acc:0.11333333333333333, test acc:0.098\n",
            "epoch:110, train acc:0.11333333333333333, test acc:0.098\n",
            "epoch:111, train acc:0.11333333333333333, test acc:0.098\n",
            "epoch:112, train acc:0.11333333333333333, test acc:0.098\n",
            "epoch:113, train acc:0.11333333333333333, test acc:0.098\n",
            "epoch:114, train acc:0.11333333333333333, test acc:0.098\n",
            "epoch:115, train acc:0.11333333333333333, test acc:0.098\n",
            "epoch:116, train acc:0.11333333333333333, test acc:0.098\n",
            "epoch:117, train acc:0.11333333333333333, test acc:0.098\n",
            "epoch:118, train acc:0.11333333333333333, test acc:0.098\n",
            "epoch:119, train acc:0.11333333333333333, test acc:0.098\n",
            "epoch:120, train acc:0.11333333333333333, test acc:0.098\n",
            "epoch:121, train acc:0.11333333333333333, test acc:0.098\n",
            "epoch:122, train acc:0.11333333333333333, test acc:0.098\n",
            "epoch:123, train acc:0.11333333333333333, test acc:0.098\n",
            "epoch:124, train acc:0.11333333333333333, test acc:0.098\n",
            "epoch:125, train acc:0.11333333333333333, test acc:0.098\n",
            "epoch:126, train acc:0.11333333333333333, test acc:0.098\n",
            "epoch:127, train acc:0.11333333333333333, test acc:0.098\n",
            "epoch:128, train acc:0.11333333333333333, test acc:0.098\n",
            "epoch:129, train acc:0.11333333333333333, test acc:0.098\n",
            "epoch:130, train acc:0.11333333333333333, test acc:0.098\n",
            "epoch:131, train acc:0.11333333333333333, test acc:0.098\n",
            "epoch:132, train acc:0.11333333333333333, test acc:0.098\n",
            "epoch:133, train acc:0.11333333333333333, test acc:0.098\n",
            "epoch:134, train acc:0.11333333333333333, test acc:0.098\n",
            "epoch:135, train acc:0.11333333333333333, test acc:0.098\n",
            "epoch:136, train acc:0.11333333333333333, test acc:0.098\n",
            "epoch:137, train acc:0.11333333333333333, test acc:0.098\n",
            "epoch:138, train acc:0.11333333333333333, test acc:0.098\n",
            "epoch:139, train acc:0.11333333333333333, test acc:0.098\n",
            "epoch:140, train acc:0.11333333333333333, test acc:0.098\n",
            "epoch:141, train acc:0.11333333333333333, test acc:0.098\n",
            "epoch:142, train acc:0.11333333333333333, test acc:0.098\n",
            "epoch:143, train acc:0.11333333333333333, test acc:0.098\n",
            "epoch:144, train acc:0.11333333333333333, test acc:0.098\n",
            "epoch:145, train acc:0.11333333333333333, test acc:0.098\n",
            "epoch:146, train acc:0.11333333333333333, test acc:0.098\n",
            "epoch:147, train acc:0.11333333333333333, test acc:0.098\n",
            "epoch:148, train acc:0.11333333333333333, test acc:0.098\n",
            "epoch:149, train acc:0.11333333333333333, test acc:0.098\n",
            "epoch:150, train acc:0.11333333333333333, test acc:0.098\n",
            "epoch:151, train acc:0.11333333333333333, test acc:0.098\n",
            "epoch:152, train acc:0.11333333333333333, test acc:0.098\n",
            "epoch:153, train acc:0.11333333333333333, test acc:0.098\n",
            "epoch:154, train acc:0.11333333333333333, test acc:0.098\n",
            "epoch:155, train acc:0.11333333333333333, test acc:0.098\n",
            "epoch:156, train acc:0.11333333333333333, test acc:0.098\n",
            "epoch:157, train acc:0.11333333333333333, test acc:0.098\n",
            "epoch:158, train acc:0.11333333333333333, test acc:0.098\n",
            "epoch:159, train acc:0.11333333333333333, test acc:0.098\n",
            "epoch:160, train acc:0.11333333333333333, test acc:0.098\n",
            "epoch:161, train acc:0.11333333333333333, test acc:0.098\n",
            "epoch:162, train acc:0.11333333333333333, test acc:0.098\n",
            "epoch:163, train acc:0.11333333333333333, test acc:0.098\n",
            "epoch:164, train acc:0.11333333333333333, test acc:0.098\n",
            "epoch:165, train acc:0.11333333333333333, test acc:0.098\n",
            "epoch:166, train acc:0.11333333333333333, test acc:0.098\n",
            "epoch:167, train acc:0.11333333333333333, test acc:0.098\n",
            "epoch:168, train acc:0.11333333333333333, test acc:0.098\n",
            "epoch:169, train acc:0.11333333333333333, test acc:0.098\n",
            "epoch:170, train acc:0.11333333333333333, test acc:0.098\n",
            "epoch:171, train acc:0.11333333333333333, test acc:0.098\n",
            "epoch:172, train acc:0.11333333333333333, test acc:0.098\n",
            "epoch:173, train acc:0.11333333333333333, test acc:0.098\n",
            "epoch:174, train acc:0.11333333333333333, test acc:0.098\n",
            "epoch:175, train acc:0.11333333333333333, test acc:0.098\n",
            "epoch:176, train acc:0.11333333333333333, test acc:0.098\n",
            "epoch:177, train acc:0.11333333333333333, test acc:0.098\n",
            "epoch:178, train acc:0.11333333333333333, test acc:0.098\n",
            "epoch:179, train acc:0.11333333333333333, test acc:0.098\n",
            "epoch:180, train acc:0.11333333333333333, test acc:0.098\n",
            "epoch:181, train acc:0.11333333333333333, test acc:0.098\n",
            "epoch:182, train acc:0.11333333333333333, test acc:0.098\n",
            "epoch:183, train acc:0.11333333333333333, test acc:0.098\n",
            "epoch:184, train acc:0.11333333333333333, test acc:0.098\n",
            "epoch:185, train acc:0.11333333333333333, test acc:0.098\n",
            "epoch:186, train acc:0.11333333333333333, test acc:0.098\n",
            "epoch:187, train acc:0.11333333333333333, test acc:0.098\n",
            "epoch:188, train acc:0.11333333333333333, test acc:0.098\n",
            "epoch:189, train acc:0.11333333333333333, test acc:0.098\n",
            "epoch:190, train acc:0.11333333333333333, test acc:0.098\n",
            "epoch:191, train acc:0.11333333333333333, test acc:0.098\n",
            "epoch:192, train acc:0.11333333333333333, test acc:0.098\n",
            "epoch:193, train acc:0.11333333333333333, test acc:0.098\n",
            "epoch:194, train acc:0.11333333333333333, test acc:0.098\n",
            "epoch:195, train acc:0.11333333333333333, test acc:0.098\n",
            "epoch:196, train acc:0.11333333333333333, test acc:0.098\n",
            "epoch:197, train acc:0.11333333333333333, test acc:0.098\n",
            "epoch:198, train acc:0.11333333333333333, test acc:0.098\n",
            "epoch:199, train acc:0.11333333333333333, test acc:0.098\n",
            "epoch:200, train acc:0.11333333333333333, test acc:0.098\n"
          ],
          "name": "stdout"
        }
      ]
    },
    {
      "cell_type": "code",
      "metadata": {
        "id": "EkGeom-KgOp3"
      },
      "source": [
        ""
      ],
      "execution_count": null,
      "outputs": []
    }
  ]
}